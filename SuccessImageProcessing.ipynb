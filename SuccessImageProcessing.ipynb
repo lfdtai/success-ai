{
 "cells": [
  {
   "cell_type": "code",
   "execution_count": 1,
   "id": "6662f0e7",
   "metadata": {},
   "outputs": [],
   "source": [
    "import matplotlib.pyplot as plt\n",
    "import numpy as np\n",
    "import os\n",
    "import PIL\n",
    "import dlib\n",
    "import argparse\n",
    "import operator\n",
    "import cv2\n",
    "import glob\n",
    "import pathlib\n",
    "import tensorflow as tf\n",
    "from tensorflow import keras\n",
    "from tensorflow.keras import layers\n",
    "from tensorflow.keras.layers import Dense, Flatten\n",
    "from tensorflow.keras.models import Sequential\n",
    "from tensorflow.keras.optimizers import Adagrad"
   ]
  },
  {
   "cell_type": "code",
   "execution_count": 2,
   "id": "fcacd1bc",
   "metadata": {},
   "outputs": [],
   "source": [
    "dataset = '/Users/dustint/Documents/Face Charisma Project/SuccessVsNonsuccess'\n",
    "data_dir = pathlib.Path(dataset)"
   ]
  },
  {
   "cell_type": "code",
   "execution_count": 3,
   "id": "9e89e045",
   "metadata": {},
   "outputs": [],
   "source": [
    "detector = dlib.get_frontal_face_detector()\n",
    "predictor = dlib.shape_predictor('shape_predictor_5_face_landmarks.dat')"
   ]
  },
  {
   "cell_type": "code",
   "execution_count": 4,
   "id": "0705a3a0",
   "metadata": {},
   "outputs": [],
   "source": [
    "def face_alignment(file_path):\n",
    "    image = cv2.imread(file_path)\n",
    "    gray = cv2.cvtColor(image, cv2.COLOR_BGR2GRAY)\n",
    "    \n",
    "    # detect faces in the image\n",
    "    rects = detector(gray, 2)\n",
    "    if len(rects) == 0:\n",
    "        return\n",
    "    \n",
    "    faceWidth = 224\n",
    "    # face rect\n",
    "    rect = rects[0]\n",
    "    # both eyes and nose\n",
    "    # left eye: 0,1 right eye: 2, 3 nose: 4\n",
    "    shape = predictor(gray, rect)\n",
    "    coords = np.zeros((5, 2), dtype=np.int)\n",
    "    for i in range(5):\n",
    "        coords[i] = (shape.part(i).x, shape.part(i).y)\n",
    "        \n",
    "    LEye = coords[:2].mean(axis=0).astype(np.int)\n",
    "    REye = coords[2:4].mean(axis=0).astype(np.int)\n",
    "    \n",
    "    # calculate angle\n",
    "    dY = REye[1] - LEye[1]\n",
    "    dX = REye[0] - LEye[0]\n",
    "    angle = np.degrees(np.arctan2(dY, dX)) - 180\n",
    "    \n",
    "    LRatio, RRatio = 0.35, 0.65\n",
    "    eyeDist = np.sqrt(dX ** 2 + dY ** 2)\n",
    "    normDist = 0.3 * faceWidth\n",
    "    scale = normDist / eyeDist\n",
    "    Center = (int(LEye[0] + REye[0]) // 2, int(LEye[1] + REye[1]) // 2)\n",
    "    \n",
    "    M = cv2.getRotationMatrix2D(Center, angle, scale)\n",
    "    \n",
    "    tX = faceWidth * 0.5\n",
    "    tY = faceWidth * LRatio \n",
    "    M[0, 2] += (tX - Center[0])\n",
    "    M[1, 2] += (tY - Center[1])\n",
    "    \n",
    "    #faceAligned = cv2.warpAffine(image, M, (faceWidth, faceWidth), cv2.INTER_CUBIC)\n",
    "    \n",
    "    new_image = np.zeros(image.shape, image.dtype)\n",
    "    \n",
    "    faceAligned = cv2.warpAffine(image, M, (faceWidth, faceWidth), cv2.INTER_CUBIC)\n",
    "    return faceAligned"
   ]
  },
  {
   "cell_type": "code",
   "execution_count": 7,
   "id": "872bd3fb",
   "metadata": {},
   "outputs": [
    {
     "name": "stderr",
     "output_type": "stream",
     "text": [
      "/var/folders/4h/7fcfpb6d4w12gg7ydf_13wr40000gn/T/ipykernel_45771/3551350882.py:16: DeprecationWarning: `np.int` is a deprecated alias for the builtin `int`. To silence this warning, use `int` by itself. Doing this will not modify any behavior and is safe. When replacing `np.int`, you may wish to use e.g. `np.int64` or `np.int32` to specify the precision. If you wish to review your current use, check the release note link for additional information.\n",
      "Deprecated in NumPy 1.20; for more details and guidance: https://numpy.org/devdocs/release/1.20.0-notes.html#deprecations\n",
      "  coords = np.zeros((5, 2), dtype=np.int)\n",
      "/var/folders/4h/7fcfpb6d4w12gg7ydf_13wr40000gn/T/ipykernel_45771/3551350882.py:20: DeprecationWarning: `np.int` is a deprecated alias for the builtin `int`. To silence this warning, use `int` by itself. Doing this will not modify any behavior and is safe. When replacing `np.int`, you may wish to use e.g. `np.int64` or `np.int32` to specify the precision. If you wish to review your current use, check the release note link for additional information.\n",
      "Deprecated in NumPy 1.20; for more details and guidance: https://numpy.org/devdocs/release/1.20.0-notes.html#deprecations\n",
      "  LEye = coords[:2].mean(axis=0).astype(np.int)\n",
      "/var/folders/4h/7fcfpb6d4w12gg7ydf_13wr40000gn/T/ipykernel_45771/3551350882.py:21: DeprecationWarning: `np.int` is a deprecated alias for the builtin `int`. To silence this warning, use `int` by itself. Doing this will not modify any behavior and is safe. When replacing `np.int`, you may wish to use e.g. `np.int64` or `np.int32` to specify the precision. If you wish to review your current use, check the release note link for additional information.\n",
      "Deprecated in NumPy 1.20; for more details and guidance: https://numpy.org/devdocs/release/1.20.0-notes.html#deprecations\n",
      "  REye = coords[2:4].mean(axis=0).astype(np.int)\n"
     ]
    }
   ],
   "source": [
    "dir_path = '/Users/dustint/Documents/Face Charisma Project/SuccessVsNonsuccess'\n",
    "out_dir_path = '/Users/dustint/Documents/Face Charisma Project/SuccessVsNonsuccessProcessed'\n",
    "\n",
    "for path, _, files in os.walk(dir_path):\n",
    "    for name in files:\n",
    "        if name.endswith('.jpg' or '.png'):\n",
    "            file_path = os.path.join(path, name)\n",
    "            #print(file_path)\n",
    "            \n",
    "            proc_image = face_alignment(file_path)\n",
    "            if proc_image is None:\n",
    "                # Preprocessed failed, just skip\n",
    "                continue\n",
    "            \n",
    "            \n",
    "            new_file_path = file_path.replace('SuccessVsNonsuccess', 'SuccessVsNonsuccessProcessed')\n",
    "            cv2.imwrite(new_file_path, proc_image)"
   ]
  },
  {
   "cell_type": "code",
   "execution_count": null,
   "id": "8fcd9fef",
   "metadata": {},
   "outputs": [],
   "source": []
  }
 ],
 "metadata": {
  "kernelspec": {
   "display_name": "Python 3 (ipykernel)",
   "language": "python",
   "name": "python3"
  },
  "language_info": {
   "codemirror_mode": {
    "name": "ipython",
    "version": 3
   },
   "file_extension": ".py",
   "mimetype": "text/x-python",
   "name": "python",
   "nbconvert_exporter": "python",
   "pygments_lexer": "ipython3",
   "version": "3.9.7"
  }
 },
 "nbformat": 4,
 "nbformat_minor": 5
}
