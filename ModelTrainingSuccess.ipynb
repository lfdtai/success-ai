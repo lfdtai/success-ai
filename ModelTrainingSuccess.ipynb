{
 "cells": [
  {
   "cell_type": "code",
   "execution_count": 1,
   "id": "53c5720a",
   "metadata": {},
   "outputs": [],
   "source": [
    "import matplotlib.pyplot as plt\n",
    "import numpy as np\n",
    "import os\n",
    "import PIL\n",
    "import dlib\n",
    "import argparse\n",
    "import operator\n",
    "import cv2\n",
    "import glob\n",
    "import pathlib\n",
    "import tensorflow as tf\n",
    "from tensorflow import keras\n",
    "from tensorflow.keras import layers\n",
    "from tensorflow.keras.layers import Dense, Flatten\n",
    "from tensorflow.keras.models import Sequential\n",
    "from tensorflow.keras.optimizers import Adagrad"
   ]
  },
  {
   "cell_type": "code",
   "execution_count": 11,
   "id": "111bc6b1",
   "metadata": {},
   "outputs": [],
   "source": [
    "dataset = '/Users/dustint/Documents/Face Charisma Project/SuccessVsNonsuccessProcessed'\n",
    "data_dir = pathlib.Path(dataset)"
   ]
  },
  {
   "cell_type": "code",
   "execution_count": 12,
   "id": "716d812c",
   "metadata": {},
   "outputs": [],
   "source": [
    "detector = dlib.get_frontal_face_detector()\n",
    "predictor = dlib.shape_predictor('shape_predictor_5_face_landmarks.dat')"
   ]
  },
  {
   "cell_type": "code",
   "execution_count": 13,
   "id": "f17d0a70",
   "metadata": {},
   "outputs": [
    {
     "name": "stdout",
     "output_type": "stream",
     "text": [
      "Found 1563 files belonging to 2 classes.\n",
      "Using 312 files for validation.\n"
     ]
    }
   ],
   "source": [
    "#setup training \n",
    "img_height,img_width=224,224\n",
    "batch_size=32\n",
    "train_ds = tf.keras.preprocessing.image_dataset_from_directory(\n",
    "    data_dir,\n",
    "    validation_split=0.2,\n",
    "    subset='validation',\n",
    "    seed=123,\n",
    "    label_mode='categorical',\n",
    "    image_size=(img_height, img_width),\n",
    "    batch_size=batch_size\n",
    ")"
   ]
  },
  {
   "cell_type": "code",
   "execution_count": 14,
   "id": "147eb055",
   "metadata": {},
   "outputs": [
    {
     "name": "stdout",
     "output_type": "stream",
     "text": [
      "Found 1563 files belonging to 2 classes.\n",
      "Using 312 files for validation.\n"
     ]
    }
   ],
   "source": [
    "#setup validation\n",
    "val_ds = tf.keras.preprocessing.image_dataset_from_directory(\n",
    "  data_dir,\n",
    "  validation_split=0.2,\n",
    "  subset='validation',\n",
    "  seed=123,\n",
    "  label_mode='categorical',\n",
    "  image_size=(img_height, img_width),\n",
    "  batch_size=batch_size)"
   ]
  },
  {
   "cell_type": "code",
   "execution_count": 6,
   "id": "b0440705",
   "metadata": {},
   "outputs": [
    {
     "name": "stdout",
     "output_type": "stream",
     "text": [
      "['Nonsuccess', 'Success']\n"
     ]
    }
   ],
   "source": [
    "#show class names\n",
    "class_names = train_ds.class_names\n",
    "print(class_names)"
   ]
  },
  {
   "cell_type": "code",
   "execution_count": 15,
   "id": "dcb77596",
   "metadata": {},
   "outputs": [],
   "source": [
    "#model structure\n",
    "resnet_model = Sequential()\n",
    "\n",
    "pretrained_model = tf.keras.applications.ResNet50(include_top=False,\n",
    "                                                  input_shape=(224,224,3),\n",
    "                                                  pooling='max',\n",
    "                                                  classes=2,\n",
    "                                                  weights='imagenet')\n",
    "for layer in pretrained_model.layers:\n",
    "  layer.trainable=False\n",
    "\n",
    "resnet_model.add(pretrained_model)\n",
    "resnet_model.add(Flatten())\n",
    "resnet_model.add(Dense(50, activation='relu'))\n",
    "resnet_model.add(Dense(2, activation='softmax'))"
   ]
  },
  {
   "cell_type": "code",
   "execution_count": null,
   "id": "62666b3c",
   "metadata": {},
   "outputs": [],
   "source": []
  },
  {
   "cell_type": "code",
   "execution_count": null,
   "id": "1206ccba",
   "metadata": {},
   "outputs": [],
   "source": [
    "#*1 and sigmoid => a single binary classi... one value return which is prob(True)\n",
    "#2 and sigmoid => 2 multi-output binary classi.... two values of prob(True) for each of the channels/outputs\n",
    "#    => is(normal) and is(celebrity)\n",
    "#Both cases should use binary_cross_entropy\n",
    "    \n",
    "#*2 and softmax (categorical_crossentropy)"
   ]
  },
  {
   "cell_type": "code",
   "execution_count": 16,
   "id": "86284b37",
   "metadata": {},
   "outputs": [
    {
     "name": "stdout",
     "output_type": "stream",
     "text": [
      "Model: \"sequential_1\"\n",
      "_________________________________________________________________\n",
      " Layer (type)                Output Shape              Param #   \n",
      "=================================================================\n",
      " resnet50 (Functional)       (None, 2048)              23587712  \n",
      "                                                                 \n",
      " flatten_1 (Flatten)         (None, 2048)              0         \n",
      "                                                                 \n",
      " dense_2 (Dense)             (None, 50)                102450    \n",
      "                                                                 \n",
      " dense_3 (Dense)             (None, 2)                 102       \n",
      "                                                                 \n",
      "=================================================================\n",
      "Total params: 23,690,264\n",
      "Trainable params: 102,552\n",
      "Non-trainable params: 23,587,712\n",
      "_________________________________________________________________\n"
     ]
    }
   ],
   "source": [
    "#model summary\n",
    "resnet_model.summary()"
   ]
  },
  {
   "cell_type": "code",
   "execution_count": 17,
   "id": "726e7524",
   "metadata": {},
   "outputs": [],
   "source": [
    "#model define\n",
    "resnet_model.compile(optimizer=Adagrad(learning_rate=.001), loss='categorical_crossentropy', metrics=['accuracy'])"
   ]
  },
  {
   "cell_type": "code",
   "execution_count": null,
   "id": "82e79e85",
   "metadata": {},
   "outputs": [],
   "source": [
    "train_ds.class_names"
   ]
  },
  {
   "cell_type": "code",
   "execution_count": null,
   "id": "09d46591",
   "metadata": {},
   "outputs": [],
   "source": []
  },
  {
   "cell_type": "code",
   "execution_count": null,
   "id": "a2880036",
   "metadata": {},
   "outputs": [],
   "source": []
  },
  {
   "cell_type": "code",
   "execution_count": 18,
   "id": "03ef466f",
   "metadata": {},
   "outputs": [
    {
     "name": "stdout",
     "output_type": "stream",
     "text": [
      "Epoch 1/15\n",
      "10/10 [==============================] - 23s 2s/step - loss: 2.8515 - accuracy: 0.5321 - val_loss: 2.3652 - val_accuracy: 0.5737\n",
      "Epoch 2/15\n",
      "10/10 [==============================] - 21s 2s/step - loss: 1.1895 - accuracy: 0.6154 - val_loss: 0.7042 - val_accuracy: 0.7051\n",
      "Epoch 3/15\n",
      "10/10 [==============================] - 20s 2s/step - loss: 0.7286 - accuracy: 0.7244 - val_loss: 0.6441 - val_accuracy: 0.7244\n",
      "Epoch 4/15\n",
      "10/10 [==============================] - 20s 2s/step - loss: 0.5272 - accuracy: 0.7821 - val_loss: 0.4267 - val_accuracy: 0.8109\n",
      "Epoch 5/15\n",
      "10/10 [==============================] - 21s 2s/step - loss: 0.4310 - accuracy: 0.8077 - val_loss: 0.3412 - val_accuracy: 0.8526\n",
      "Epoch 6/15\n",
      "10/10 [==============================] - 20s 2s/step - loss: 0.3589 - accuracy: 0.8429 - val_loss: 0.2938 - val_accuracy: 0.8718\n",
      "Epoch 7/15\n",
      "10/10 [==============================] - 20s 2s/step - loss: 0.2973 - accuracy: 0.8910 - val_loss: 0.2939 - val_accuracy: 0.8750\n",
      "Epoch 8/15\n",
      "10/10 [==============================] - 20s 2s/step - loss: 0.3030 - accuracy: 0.8622 - val_loss: 0.3132 - val_accuracy: 0.8718\n",
      "Epoch 9/15\n",
      "10/10 [==============================] - 20s 2s/step - loss: 0.2484 - accuracy: 0.9071 - val_loss: 0.2280 - val_accuracy: 0.9199\n",
      "Epoch 10/15\n",
      "10/10 [==============================] - 21s 2s/step - loss: 0.2273 - accuracy: 0.9071 - val_loss: 0.1949 - val_accuracy: 0.9231\n",
      "Epoch 11/15\n",
      "10/10 [==============================] - 21s 2s/step - loss: 0.1983 - accuracy: 0.9391 - val_loss: 0.1735 - val_accuracy: 0.9295\n",
      "Epoch 12/15\n",
      "10/10 [==============================] - 21s 2s/step - loss: 0.1798 - accuracy: 0.9327 - val_loss: 0.1504 - val_accuracy: 0.9519\n",
      "Epoch 13/15\n",
      "10/10 [==============================] - 21s 2s/step - loss: 0.1692 - accuracy: 0.9391 - val_loss: 0.1358 - val_accuracy: 0.9679\n",
      "Epoch 14/15\n",
      "10/10 [==============================] - 20s 2s/step - loss: 0.1409 - accuracy: 0.9583 - val_loss: 0.1247 - val_accuracy: 0.9744\n",
      "Epoch 15/15\n",
      "10/10 [==============================] - 21s 2s/step - loss: 0.1304 - accuracy: 0.9679 - val_loss: 0.1196 - val_accuracy: 0.9744\n"
     ]
    }
   ],
   "source": [
    "#model training\n",
    "epochs=15\n",
    "history = resnet_model.fit(\n",
    "    train_ds,\n",
    "    validation_data=val_ds,\n",
    "    epochs=epochs\n",
    ")"
   ]
  },
  {
   "cell_type": "code",
   "execution_count": 19,
   "id": "3c01f1b1",
   "metadata": {},
   "outputs": [],
   "source": [
    "resnet_model.save('/Users/dustint/Documents/Face Charisma Project/SuccessResnet50.h5')"
   ]
  },
  {
   "cell_type": "code",
   "execution_count": null,
   "id": "b294534e",
   "metadata": {},
   "outputs": [],
   "source": []
  }
 ],
 "metadata": {
  "kernelspec": {
   "display_name": "Python 3 (ipykernel)",
   "language": "python",
   "name": "python3"
  },
  "language_info": {
   "codemirror_mode": {
    "name": "ipython",
    "version": 3
   },
   "file_extension": ".py",
   "mimetype": "text/x-python",
   "name": "python",
   "nbconvert_exporter": "python",
   "pygments_lexer": "ipython3",
   "version": "3.9.7"
  }
 },
 "nbformat": 4,
 "nbformat_minor": 5
}
